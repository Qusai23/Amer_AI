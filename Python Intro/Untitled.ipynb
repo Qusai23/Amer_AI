{
 "cells": [
  {
   "cell_type": "code",
   "execution_count": 41,
   "metadata": {},
   "outputs": [
    {
     "name": "stdout",
     "output_type": "stream",
     "text": [
      "12.25\n"
     ]
    }
   ],
   "source": [
    "fruitPrices = {'apples': 2.00, 'oranges': 1.50, 'pears': 1.75,\n",
    "               'limes': 0.75, 'strawberries': 1.00}\n",
    "\n",
    "orderList = [('apples', 2.0), ('pears', 3.0), ('limes', 4.0)]\n",
    "totalCost = 0.0\n",
    "for fruit, pound in orderList:\n",
    "    cost = fruitPrices[fruit] * pound\n",
    "    totalCost = totalCost + cost\n",
    "print(totalCost)to\n",
    "\n",
    "    \n",
    "    "
   ]
  },
  {
   "cell_type": "code",
   "execution_count": 38,
   "metadata": {},
   "outputs": [
    {
     "name": "stdout",
     "output_type": "stream",
     "text": [
      "15\n"
     ]
    }
   ],
   "source": [
    "sum = 0\n",
    "for x in [1,2,3,4,5]:\n",
    "    sum = sum + x\n",
    "print(sum)\n"
   ]
  },
  {
   "cell_type": "code",
   "execution_count": 42,
   "metadata": {},
   "outputs": [
    {
     "ename": "NameError",
     "evalue": "name 'shop' is not defined",
     "output_type": "error",
     "traceback": [
      "\u001b[0;31m---------------------------------------------------------------------------\u001b[0m",
      "\u001b[0;31mNameError\u001b[0m                                 Traceback (most recent call last)",
      "\u001b[0;32m<ipython-input-42-aa8dd993eef9>\u001b[0m in \u001b[0;36m<module>\u001b[0;34m\u001b[0m\n\u001b[1;32m      1\u001b[0m \u001b[0morders\u001b[0m \u001b[0;34m=\u001b[0m \u001b[0;34m[\u001b[0m\u001b[0;34m(\u001b[0m\u001b[0;34m'apples'\u001b[0m\u001b[0;34m,\u001b[0m \u001b[0;36m1.0\u001b[0m\u001b[0;34m)\u001b[0m\u001b[0;34m,\u001b[0m \u001b[0;34m(\u001b[0m\u001b[0;34m'oranges'\u001b[0m\u001b[0;34m,\u001b[0m \u001b[0;36m3.0\u001b[0m\u001b[0;34m)\u001b[0m\u001b[0;34m]\u001b[0m\u001b[0;34m\u001b[0m\u001b[0;34m\u001b[0m\u001b[0m\n\u001b[1;32m      2\u001b[0m \u001b[0mdir1\u001b[0m \u001b[0;34m=\u001b[0m \u001b[0;34m{\u001b[0m\u001b[0;34m'apples'\u001b[0m\u001b[0;34m:\u001b[0m \u001b[0;36m2.0\u001b[0m\u001b[0;34m,\u001b[0m \u001b[0;34m'oranges'\u001b[0m\u001b[0;34m:\u001b[0m \u001b[0;36m1.0\u001b[0m\u001b[0;34m}\u001b[0m\u001b[0;34m\u001b[0m\u001b[0;34m\u001b[0m\u001b[0m\n\u001b[0;32m----> 3\u001b[0;31m \u001b[0mshop1\u001b[0m \u001b[0;34m=\u001b[0m \u001b[0mshop\u001b[0m\u001b[0;34m.\u001b[0m\u001b[0mFruitShop\u001b[0m\u001b[0;34m(\u001b[0m\u001b[0;34m'shop1'\u001b[0m\u001b[0;34m,\u001b[0m \u001b[0mdir1\u001b[0m\u001b[0;34m)\u001b[0m\u001b[0;34m\u001b[0m\u001b[0;34m\u001b[0m\u001b[0m\n\u001b[0m\u001b[1;32m      4\u001b[0m \u001b[0mdir2\u001b[0m \u001b[0;34m=\u001b[0m \u001b[0;34m{\u001b[0m\u001b[0;34m'apples'\u001b[0m\u001b[0;34m:\u001b[0m \u001b[0;36m1.0\u001b[0m\u001b[0;34m,\u001b[0m \u001b[0;34m'oranges'\u001b[0m\u001b[0;34m:\u001b[0m \u001b[0;36m5.0\u001b[0m\u001b[0;34m}\u001b[0m\u001b[0;34m\u001b[0m\u001b[0;34m\u001b[0m\u001b[0m\n\u001b[1;32m      5\u001b[0m \u001b[0mshop2\u001b[0m \u001b[0;34m=\u001b[0m \u001b[0mshop\u001b[0m\u001b[0;34m.\u001b[0m\u001b[0mFruitShop\u001b[0m\u001b[0;34m(\u001b[0m\u001b[0;34m'shop2'\u001b[0m\u001b[0;34m,\u001b[0m \u001b[0mdir2\u001b[0m\u001b[0;34m)\u001b[0m\u001b[0;34m\u001b[0m\u001b[0;34m\u001b[0m\u001b[0m\n",
      "\u001b[0;31mNameError\u001b[0m: name 'shop' is not defined"
     ]
    }
   ],
   "source": [
    "    orders = [('apples', 1.0), ('oranges', 3.0)]\n",
    "    dir1 = {'apples': 2.0, 'oranges': 1.0}\n",
    "    shop1 = shop.FruitShop('shop1', dir1)\n",
    "    dir2 = {'apples': 1.0, 'oranges': 5.0}\n",
    "    shop2 = shop.FruitShop('shop2', dir2)\n",
    "    shops = [shop1, shop2]"
   ]
  },
  {
   "cell_type": "code",
   "execution_count": 43,
   "metadata": {},
   "outputs": [],
   "source": [
    "\n",
    "class FruitShop:\n",
    "\n",
    "    def __init__(self, name, fruitPrices):\n",
    "        \"\"\"\n",
    "            name: Name of the fruit shop\n",
    "\n",
    "            fruitPrices: Dictionary with keys as fruit\n",
    "            strings and prices for values e.g.\n",
    "            {'apples':2.00, 'oranges': 1.50, 'pears': 1.75}\n",
    "        \"\"\"\n",
    "        self.fruitPrices = fruitPrices\n",
    "        self.name = name\n",
    "        print('Welcome to %s fruit shop' % (name))\n",
    "\n",
    "    def getCostPerPound(self, fruit):\n",
    "        \"\"\"\n",
    "            fruit: Fruit string\n",
    "        Returns cost of 'fruit', assuming 'fruit'\n",
    "        is in our inventory or None otherwise\n",
    "        \"\"\"\n",
    "        if fruit not in self.fruitPrices:\n",
    "            return None\n",
    "        return self.fruitPrices[fruit]\n",
    "\n",
    "    def getPriceOfOrder(self, orderList):\n",
    "        \"\"\"\n",
    "            orderList: List of (fruit, numPounds) tuples\n",
    "\n",
    "        Returns cost of orderList, only including the values of\n",
    "        fruits that this fruit shop has.\n",
    "        \"\"\"\n",
    "        totalCost = 0.0\n",
    "        for fruit, numPounds in orderList:\n",
    "            costPerPound = self.getCostPerPound(fruit)\n",
    "            if costPerPound != None:\n",
    "                totalCost += numPounds * costPerPound\n",
    "        return totalCost\n",
    "\n",
    "    def getName(self):\n",
    "        return self.name\n",
    "\n",
    "    def __str__(self):\n",
    "        return \"<FruitShop: %s>\" % self.getName()\n",
    "\n",
    "    def __repr__(self):\n",
    "        return str(self)\n"
   ]
  },
  {
   "cell_type": "code",
   "execution_count": 70,
   "metadata": {},
   "outputs": [
    {
     "name": "stdout",
     "output_type": "stream",
     "text": [
      "Welcome to shop1 fruit shop\n",
      "Welcome to shop2 fruit shop\n"
     ]
    }
   ],
   "source": [
    "import shop\n",
    "def shopSmart(orderList, fruitShops):\n",
    "    \n",
    "    \n",
    "    totalCost1 = 0.0\n",
    "    totalCost2 = 0.0\n",
    "    for fruit,pound in orders:\n",
    "        cost1 = dir1[fruit] * pound\n",
    "        cost2= dir2[fruit] * pound\n",
    "        totalCost1 = totalCost1 + cost1\n",
    "        totalCost2=totalCost2 + cost2\n",
    "        if totalCost1 > totalCost2:\n",
    "            print('SHOP2')\n",
    "        else: print ('SHOP 1')\n",
    "    \n",
    "\n",
    "\n",
    "\n",
    "\n",
    "if __name__ == '__main__':\n",
    "    \"This code runs when you invoke the script from the command line\"\n",
    "orders = [('apples', 1.0), ('oranges', 3.0)]\n",
    "dir1 = {'apples': 2.0, 'oranges': 1.0}\n",
    "shop1 = shop.FruitShop('shop1', dir1)\n",
    "dir2 = {'apples': 1.0, 'oranges': 5.0}\n",
    "shop2 = shop.FruitShop('shop2', dir2)\n",
    "shops = [shop1, shop2]\n"
   ]
  },
  {
   "cell_type": "code",
   "execution_count": 79,
   "metadata": {},
   "outputs": [
    {
     "data": {
      "text/plain": [
       "12.25"
      ]
     },
     "execution_count": 79,
     "metadata": {},
     "output_type": "execute_result"
    }
   ],
   "source": [
    "\n",
    "fruitPrices = {'apples': 2.00, 'oranges': 1.50, 'pears': 1.75,\n",
    "               'limes': 0.75, 'strawberries': 1.00}\n",
    "\n",
    "orderList = [('apples', 2.0), ('pears', 3.0), ('limes', 4.0)]\n",
    "totalCost = 0.0\n",
    "for fruit, pound in orderList:\n",
    "    cost = fruitPrices[fruit] * pound\n",
    "    totalCost = totalCost + cost\n",
    "    \n",
    "    \n",
    "    \n",
    "totalCost\n",
    "\n"
   ]
  },
  {
   "cell_type": "code",
   "execution_count": 80,
   "metadata": {},
   "outputs": [
    {
     "name": "stdout",
     "output_type": "stream",
     "text": [
      "Welcome to shop1 fruit shop\n",
      "Welcome to shop2 fruit shop\n",
      "For orders:  [('apples', 1.0), ('oranges', 3.0)] , the best shop is shop1\n",
      "For orders:  [('apples', 3.0)] , the best shop is shop2\n"
     ]
    }
   ],
   "source": [
    "\n",
    "from __future__ import print_function\n",
    "import shop\n",
    "\n",
    "\n",
    "def shopSmart(orderList, fruitShops):\n",
    "    \"\"\"\n",
    "        orderList: List of (fruit, numPound) tuples\n",
    "        fruitShops: List of FruitShops\n",
    "    \"\"\"\n",
    "    totalCost1 = 0.0\n",
    "    totalCost2 = 0.0\n",
    "\n",
    "    for fruit, pound in orders:\n",
    "        cost1 = dir1[fruit] * pound\n",
    "        cost2 = dir2[fruit] * pound\n",
    "        totalCost1 = totalCost1 + cost1\n",
    "        totalCost2 = totalCost2 + cost2\n",
    "    if totalCost1 > totalCost2:\n",
    "        return shop2\n",
    "    else:\n",
    "        return shop1\n",
    "\n",
    "    return None\n",
    "\n",
    "\n",
    "\n",
    "\n",
    "if __name__ == '__main__':\n",
    "    \"This code runs when you invoke the script from the command line\"\n",
    "    orders = [('apples', 1.0), ('oranges', 3.0)]\n",
    "    dir1 = {'apples': 2.0, 'oranges': 1.0}\n",
    "    shop1 = shop.FruitShop('shop1', dir1)\n",
    "    dir2 = {'apples': 1.0, 'oranges': 5.0}\n",
    "    shop2 = shop.FruitShop('shop2', dir2)\n",
    "    shops = [shop1, shop2]\n",
    "    print(\"For orders: \", orders, \", the best shop is\", shopSmart(orders, shops).getName())\n",
    "    orders = [('apples', 3.0)]\n",
    "    print(\"For orders: \", orders, \", the best shop is\", shopSmart(orders, shops).getName())\n",
    "\n",
    "    "
   ]
  },
  {
   "cell_type": "code",
   "execution_count": null,
   "metadata": {},
   "outputs": [],
   "source": []
  }
 ],
 "metadata": {
  "kernelspec": {
   "display_name": "Python 3",
   "language": "python",
   "name": "python3"
  },
  "language_info": {
   "codemirror_mode": {
    "name": "ipython",
    "version": 3
   },
   "file_extension": ".py",
   "mimetype": "text/x-python",
   "name": "python",
   "nbconvert_exporter": "python",
   "pygments_lexer": "ipython3",
   "version": "3.7.6"
  }
 },
 "nbformat": 4,
 "nbformat_minor": 4
}
